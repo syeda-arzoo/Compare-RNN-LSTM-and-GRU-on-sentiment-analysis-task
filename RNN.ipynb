{
 "cells": [
  {
   "cell_type": "code",
   "execution_count": 1,
   "metadata": {},
   "outputs": [
    {
     "name": "stderr",
     "output_type": "stream",
     "text": [
      "Using TensorFlow backend.\n"
     ]
    }
   ],
   "source": [
    "import pandas as pd\n",
    "import numpy as np\n",
    "import re\n",
    "import nltk\n",
    "from nltk.corpus import stopwords\n",
    "\n",
    "from numpy import array\n",
    "from keras.preprocessing.text import one_hot\n",
    "from keras.preprocessing.sequence import pad_sequences\n",
    "from keras.models import Sequential\n",
    "from keras.layers.core import Activation, Dropout, Dense\n",
    "from keras.layers import Flatten\n",
    "from keras.layers import GlobalMaxPooling1D\n",
    "from keras.layers.embeddings import Embedding\n",
    "from sklearn.model_selection import train_test_split\n",
    "from keras.preprocessing.text import Tokenizer"
   ]
  },
  {
   "cell_type": "code",
   "execution_count": 2,
   "metadata": {},
   "outputs": [],
   "source": [
    "df = pd.DataFrame()\n",
    "df = pd.read_csv('/Users/arzoo/Desktop/SEM1/Intro to DL/sentiment-data/train.csv', encoding = \"utf-8\", \n",
    "                 names=[\"Sentiment\", \"Text\"])\n",
    "df['Text'] = df['Text'].astype(str) \n",
    "df['positive'] = (df.Sentiment == \"postive\")\n",
    "df['negative'] = (df.Sentiment == \"negative\")\n",
    "df['positive'] = df['positive'].astype(int)\n",
    "df['negative'] = df['negative'].astype(int)"
   ]
  },
  {
   "cell_type": "code",
   "execution_count": 3,
   "metadata": {},
   "outputs": [],
   "source": [
    "\n",
    "X_train = df['Text'].values \n",
    "\n",
    "y_train = df[['positive','negative']].values\n",
    "\n"
   ]
  },
  {
   "cell_type": "code",
   "execution_count": 4,
   "metadata": {},
   "outputs": [],
   "source": [
    "dff = pd.DataFrame()\n",
    "dff = pd.read_csv('/Users/arzoo/Desktop/SEM1/Intro to DL/sentiment-data/test.csv', encoding = \"utf-8\", \n",
    "                 names=[\"Sentiment\", \"Text\"])\n",
    "dff['Text'] = dff['Text'].astype(str) \n",
    "X_test = dff['Text'].values\n",
    "x_test = X_test\n",
    "dff['positive'] = (dff.Sentiment == \"postive\")\n",
    "dff['negative'] = (dff.Sentiment == \"negative\")\n",
    "dff['positive'] = dff['positive'].astype(int)\n",
    "dff['negative'] = dff['negative'].astype(int)\n",
    "y_test = dff[['positive','negative']].values\n"
   ]
  },
  {
   "cell_type": "code",
   "execution_count": 5,
   "metadata": {},
   "outputs": [],
   "source": [
    "tokenizer = Tokenizer()\n",
    "tokenizer.fit_on_texts(X_train)\n",
    "X_train = tokenizer.texts_to_sequences(X_train)\n",
    "\n",
    "X_test = tokenizer.texts_to_sequences(X_test)\n",
    "# Adding 1 because of reserved 0 index\n",
    "vocab_size = len(tokenizer.word_index) + 1\n",
    "\n",
    "maxlen = 60\n",
    "\n",
    "X_train = pad_sequences(X_train, padding='post', maxlen=maxlen)\n",
    "X_test = pad_sequences(X_test, padding='post', maxlen=maxlen)\n"
   ]
  },
  {
   "cell_type": "code",
   "execution_count": 6,
   "metadata": {},
   "outputs": [],
   "source": [
    "from numpy import array\n",
    "from numpy import asarray\n",
    "from numpy import zeros\n",
    "\n",
    "embeddings_dictionary = dict()\n",
    "#commas have been removed from the word-vectors.txt file\n",
    "glove_file = open('/Users/arzoo/Desktop/SEM1/Intro to DL/sentiment-dataa/word-vectors.txt', encoding=\"utf8\")\n",
    "\n",
    "for line in glove_file:\n",
    "    records = line.split()\n",
    "    word = records[0]\n",
    "    vector_dimensions = asarray(records[1:], dtype='float32')\n",
    "    embeddings_dictionary[word] = vector_dimensions\n",
    "    \n",
    "glove_file.close()\n",
    "\n"
   ]
  },
  {
   "cell_type": "code",
   "execution_count": 7,
   "metadata": {},
   "outputs": [
    {
     "name": "stdout",
     "output_type": "stream",
     "text": [
      "[[ 0.          0.          0.         ...  0.          0.\n",
      "   0.        ]\n",
      " [ 0.41800001  0.24968    -0.41242    ... -0.18411    -0.11514\n",
      "  -0.78580999]\n",
      " [ 0.26818001  0.14346001 -0.27877    ... -0.63209999 -0.25027999\n",
      "  -0.38097   ]\n",
      " ...\n",
      " [ 0.70876002 -0.63502002  0.6243     ...  0.55676001  0.21197\n",
      "  -0.36195999]\n",
      " [ 0.058441    0.43887001 -1.31029999 ... -0.64341998 -0.34671\n",
      "   0.90706998]\n",
      " [-0.24207    -0.73237002  0.23311999 ... -0.23586001 -0.078379\n",
      "  -0.20638999]]\n"
     ]
    }
   ],
   "source": [
    "embedding_matrix = zeros((vocab_size, 50))\n",
    "\n",
    "for word, index in tokenizer.word_index.items():\n",
    "    embedding_vector = embeddings_dictionary.get(word)\n",
    "    if embedding_vector is not None:\n",
    "        embedding_matrix[index] = embedding_vector\n",
    "        \n",
    "print(embedding_matrix)\n"
   ]
  },
  {
   "cell_type": "code",
   "execution_count": 13,
   "metadata": {},
   "outputs": [],
   "source": [
    "from keras.layers.core import Dense, Dropout\n",
    "from keras.layers import LSTM, GRU, SimpleRNN\n",
    "def test(mod):\n",
    "    model = Sequential()\n",
    "    embedding_layer = Embedding(vocab_size, 50, weights=[embedding_matrix], input_length=maxlen , trainable=False)\n",
    "    model.add(embedding_layer)\n",
    "    model.add(mod)\n",
    "    model.add(Dense(60, activation='tanh'))\n",
    "    model.add(Dense(2, activation='softmax'))\n",
    "    model.compile(optimizer='adam', loss='binary_crossentropy', metrics=['acc'])\n",
    "    print(model.summary())\n",
    "    history = model.fit(X_train, y_train, batch_size=500, epochs=1, verbose=1)\n",
    "    score = model.evaluate(X_test, y_test, verbose=1)\n",
    "    print(\"Test Score:\", score[0])\n",
    "    print(\"Test Accuracy:\", score[1])\n",
    "    return\n"
   ]
  },
  {
   "cell_type": "code",
   "execution_count": 14,
   "metadata": {
    "scrolled": true
   },
   "outputs": [
    {
     "name": "stdout",
     "output_type": "stream",
     "text": [
      "_________________________________________________________________\n",
      "Layer (type)                 Output Shape              Param #   \n",
      "=================================================================\n",
      "embedding_4 (Embedding)      (None, 60, 50)            2042650   \n",
      "_________________________________________________________________\n",
      "simple_rnn_2 (SimpleRNN)     (None, 64)                7360      \n",
      "_________________________________________________________________\n",
      "dense_7 (Dense)              (None, 60)                3900      \n",
      "_________________________________________________________________\n",
      "dense_8 (Dense)              (None, 2)                 122       \n",
      "=================================================================\n",
      "Total params: 2,054,032\n",
      "Trainable params: 11,382\n",
      "Non-trainable params: 2,042,650\n",
      "_________________________________________________________________\n",
      "None\n",
      "Epoch 1/1\n",
      "20000/20000 [==============================] - 10s 510us/step - loss: 0.7209 - acc: 0.5239\n",
      "5000/5000 [==============================] - 6s 1ms/step\n",
      "Test Score: 0.6892178791999817\n",
      "Test Accuracy: 0.5414\n"
     ]
    }
   ],
   "source": [
    "test(SimpleRNN(64))\n"
   ]
  },
  {
   "cell_type": "code",
   "execution_count": 15,
   "metadata": {},
   "outputs": [
    {
     "name": "stdout",
     "output_type": "stream",
     "text": [
      "_________________________________________________________________\n",
      "Layer (type)                 Output Shape              Param #   \n",
      "=================================================================\n",
      "embedding_5 (Embedding)      (None, 60, 50)            2042650   \n",
      "_________________________________________________________________\n",
      "lstm_2 (LSTM)                (None, 64)                29440     \n",
      "_________________________________________________________________\n",
      "dense_9 (Dense)              (None, 60)                3900      \n",
      "_________________________________________________________________\n",
      "dense_10 (Dense)             (None, 2)                 122       \n",
      "=================================================================\n",
      "Total params: 2,076,112\n",
      "Trainable params: 33,462\n",
      "Non-trainable params: 2,042,650\n",
      "_________________________________________________________________\n",
      "None\n",
      "Epoch 1/1\n",
      "20000/20000 [==============================] - 30s 2ms/step - loss: 0.6650 - acc: 0.5917\n",
      "5000/5000 [==============================] - 7s 1ms/step\n",
      "Test Score: 0.6035113176345825\n",
      "Test Accuracy: 0.6786\n"
     ]
    }
   ],
   "source": [
    "test(LSTM(64))"
   ]
  },
  {
   "cell_type": "code",
   "execution_count": 16,
   "metadata": {},
   "outputs": [
    {
     "name": "stdout",
     "output_type": "stream",
     "text": [
      "_________________________________________________________________\n",
      "Layer (type)                 Output Shape              Param #   \n",
      "=================================================================\n",
      "embedding_6 (Embedding)      (None, 60, 50)            2042650   \n",
      "_________________________________________________________________\n",
      "gru_2 (GRU)                  (None, 64)                22080     \n",
      "_________________________________________________________________\n",
      "dense_11 (Dense)             (None, 60)                3900      \n",
      "_________________________________________________________________\n",
      "dense_12 (Dense)             (None, 2)                 122       \n",
      "=================================================================\n",
      "Total params: 2,068,752\n",
      "Trainable params: 26,102\n",
      "Non-trainable params: 2,042,650\n",
      "_________________________________________________________________\n",
      "None\n",
      "Epoch 1/1\n",
      "20000/20000 [==============================] - 26s 1ms/step - loss: 0.6834 - acc: 0.5551\n",
      "5000/5000 [==============================] - 6s 1ms/step\n",
      "Test Score: 0.6685330257415771\n",
      "Test Accuracy: 0.5922\n"
     ]
    }
   ],
   "source": [
    "test(GRU(64))"
   ]
  },
  {
   "cell_type": "code",
   "execution_count": null,
   "metadata": {},
   "outputs": [],
   "source": []
  }
 ],
 "metadata": {
  "kernelspec": {
   "display_name": "Python 3",
   "language": "python",
   "name": "python3"
  },
  "language_info": {
   "codemirror_mode": {
    "name": "ipython",
    "version": 3
   },
   "file_extension": ".py",
   "mimetype": "text/x-python",
   "name": "python",
   "nbconvert_exporter": "python",
   "pygments_lexer": "ipython3",
   "version": "3.7.3"
  }
 },
 "nbformat": 4,
 "nbformat_minor": 2
}
